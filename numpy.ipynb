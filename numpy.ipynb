{
 "cells": [
  {
   "cell_type": "code",
   "execution_count": 70,
   "metadata": {},
   "outputs": [],
   "source": [
    "import numpy as np"
   ]
  },
  {
   "cell_type": "code",
   "execution_count": 71,
   "metadata": {},
   "outputs": [
    {
     "name": "stdout",
     "output_type": "stream",
     "text": [
      "[1 2 3 4 5]\n"
     ]
    }
   ],
   "source": [
    "# 1.Arrays\n",
    "# Creating an array\n",
    "arr = np.array([1, 2, 3, 4, 5])\n",
    "print(arr)"
   ]
  },
  {
   "cell_type": "code",
   "execution_count": 72,
   "metadata": {},
   "outputs": [
    {
     "name": "stdout",
     "output_type": "stream",
     "text": [
      "3\n"
     ]
    }
   ],
   "source": [
    "# 2.Accessing Elements\n",
    "arr = np.array([1, 2, 3, 4, 5])\n",
    "\n",
    "# Accessing an element with index 2\n",
    "print(arr[2])\n"
   ]
  },
  {
   "cell_type": "code",
   "execution_count": 73,
   "metadata": {},
   "outputs": [
    {
     "name": "stdout",
     "output_type": "stream",
     "text": [
      "[5 7 9]\n"
     ]
    }
   ],
   "source": [
    "# 3.Mathematical Operations\n",
    "\n",
    "arr1 = np.array([1, 2, 3])\n",
    "arr2 = np.array([4, 5, 6])\n",
    "\n",
    "# Adding two arrays\n",
    "result = np.add(arr1, arr2)\n",
    "print(result)"
   ]
  },
  {
   "cell_type": "code",
   "execution_count": 74,
   "metadata": {},
   "outputs": [
    {
     "name": "stdout",
     "output_type": "stream",
     "text": [
      "[[1 2 3]\n",
      " [4 5 6]]\n"
     ]
    }
   ],
   "source": [
    "# 4.Multidimensional Arrays \n",
    "# Creating a two-dimensional array (matrix)\n",
    "arr = np.array([[1, 2, 3], [4, 5, 6]])\n",
    "print(arr)"
   ]
  },
  {
   "cell_type": "code",
   "execution_count": 75,
   "metadata": {},
   "outputs": [
    {
     "name": "stdout",
     "output_type": "stream",
     "text": [
      "[[19 22]\n",
      " [43 50]]\n"
     ]
    }
   ],
   "source": [
    "# 5.Matrix Operations \n",
    "arr1 = np.array([[1, 2], [3, 4]])\n",
    "arr2 = np.array([[5, 6], [7, 8]])\n",
    "\n",
    "# Multiplying two matrices\n",
    "result = np.dot(arr1, arr2)\n",
    "print(result)\n"
   ]
  },
  {
   "cell_type": "code",
   "execution_count": 76,
   "metadata": {},
   "outputs": [
    {
     "name": "stdout",
     "output_type": "stream",
     "text": [
      "Mean: 3.0\n"
     ]
    }
   ],
   "source": [
    "# 6.Statistical Operations \n",
    "arr = np.array([1, 2, 3, 4, 5])\n",
    "\n",
    "# Calculating the mean of the array\n",
    "mean_value = np.mean(arr)\n",
    "print(\"Mean:\", mean_value)"
   ]
  },
  {
   "cell_type": "code",
   "execution_count": 77,
   "metadata": {},
   "outputs": [
    {
     "name": "stdout",
     "output_type": "stream",
     "text": [
      "Mask: [False False  True  True  True]\n"
     ]
    }
   ],
   "source": [
    "# 7.Comparison and Masking\n",
    "arr = np.array([1, 2, 3, 4, 5])\n",
    "\n",
    "# Creating a mask for elements greater than 2\n",
    "mask = arr > 2\n",
    "print(\"Mask:\", mask)"
   ]
  },
  {
   "cell_type": "code",
   "execution_count": 78,
   "metadata": {},
   "outputs": [
    {
     "name": "stdout",
     "output_type": "stream",
     "text": [
      "Logical AND: [False False False]\n"
     ]
    }
   ],
   "source": [
    "# 8.Logical Operations \n",
    "arr1 = np.array([True, False, True])\n",
    "arr2 = np.array([False, True, False])\n",
    "\n",
    "# Performing element-wise logical AND operation\n",
    "result_and = np.logical_and(arr1, arr2)\n",
    "print(\"Logical AND:\", result_and)"
   ]
  },
  {
   "cell_type": "code",
   "execution_count": 79,
   "metadata": {},
   "outputs": [
    {
     "name": "stdout",
     "output_type": "stream",
     "text": [
      "Loaded Array: [1 2 3 4 5]\n"
     ]
    }
   ],
   "source": [
    "# 9.Saving and Loading Data\n",
    "arr = np.array([1, 2, 3, 4, 5])\n",
    "\n",
    "# Saving the array to a file\n",
    "np.save('array.npy', arr)\n",
    "\n",
    "# Loading the array from the file\n",
    "loaded_arr = np.load('array.npy')\n",
    "print(\"Loaded Array:\", loaded_arr)"
   ]
  },
  {
   "cell_type": "code",
   "execution_count": 80,
   "metadata": {},
   "outputs": [
    {
     "name": "stdout",
     "output_type": "stream",
     "text": [
      "Sine Values: [0.0000000e+00 1.0000000e+00 1.2246468e-16]\n"
     ]
    }
   ],
   "source": [
    "# 10.Special Functions \n",
    "# Calculating the sine of an array\n",
    "arr = np.array([0, np.pi/2, np.pi])\n",
    "sin_values = np.sin(arr)\n",
    "print(\"Sine Values:\", sin_values)"
   ]
  },
  {
   "cell_type": "code",
   "execution_count": 81,
   "metadata": {},
   "outputs": [
    {
     "name": "stdout",
     "output_type": "stream",
     "text": [
      "Union: [1 2 3 4 5 6 7 8]\n",
      "Intersection: [4 5]\n",
      "Difference: [1 2 3]\n"
     ]
    }
   ],
   "source": [
    "# 11.Set Operations\n",
    "arr1 = np.array([1, 2, 3, 4, 5])\n",
    "arr2 = np.array([4, 5, 6, 7, 8])\n",
    "\n",
    "# Finding the union of two arrays\n",
    "union = np.union1d(arr1, arr2)\n",
    "print(\"Union:\", union)\n",
    "\n",
    "# Finding the intersection of two arrays\n",
    "intersection = np.intersect1d(arr1, arr2)\n",
    "print(\"Intersection:\", intersection)\n",
    "\n",
    "# Finding the difference between two arrays\n",
    "difference = np.setdiff1d(arr1, arr2)\n",
    "print(\"Difference:\", difference)\n"
   ]
  },
  {
   "cell_type": "code",
   "execution_count": null,
   "metadata": {},
   "outputs": [],
   "source": [
    "\n",
    "\n"
   ]
  }
 ],
 "metadata": {
  "kernelspec": {
   "display_name": "numpy-test-NRiALfBC",
   "language": "python",
   "name": "python3"
  },
  "language_info": {
   "codemirror_mode": {
    "name": "ipython",
    "version": 3
   },
   "file_extension": ".py",
   "mimetype": "text/x-python",
   "name": "python",
   "nbconvert_exporter": "python",
   "pygments_lexer": "ipython3",
   "version": "3.12.2"
  }
 },
 "nbformat": 4,
 "nbformat_minor": 2
}
